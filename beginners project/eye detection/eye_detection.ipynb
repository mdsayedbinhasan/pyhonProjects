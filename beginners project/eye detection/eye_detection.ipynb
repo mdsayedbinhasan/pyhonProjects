{
 "cells": [
  {
   "cell_type": "code",
   "execution_count": 1,
   "metadata": {},
   "outputs": [
    {
     "name": "stdout",
     "output_type": "stream",
     "text": [
      "Requirement already satisfied: opencv-python in c:\\users\\sayed\\anaconda3\\lib\\site-packages (4.4.0.42)\n",
      "Requirement already satisfied: numpy>=1.14.5 in c:\\users\\sayed\\anaconda3\\lib\\site-packages (from opencv-python) (1.16.4)\n",
      "Note: you may need to restart the kernel to use updated packages.\n"
     ]
    }
   ],
   "source": [
    "pip install opencv-python"
   ]
  },
  {
   "cell_type": "code",
   "execution_count": 11,
   "metadata": {},
   "outputs": [],
   "source": [
    "import cv2\n",
    "\n",
    "eye_detect = cv2.CascadeClassifier('haarcascade_eye.xml')\n",
    "cam = cv2.VideoCapture('sayed1.mp4')\n",
    " \n",
    "while True:\n",
    "     \n",
    "    resp, frame = cam.read()\n",
    "     \n",
    "    if resp==0:\n",
    "        break\n",
    "         \n",
    "    gray_img = cv2.cvtColor(frame, cv2.COLOR_BGR2GRAY)\n",
    "     \n",
    "    eyes = eye_detect.detectMultiScale(gray_img, 1.3, 7)\n",
    "     \n",
    "    for (x,y,w,h) in eyes:\n",
    "        cv2.rectangle(frame, (x,y), (x+w, y+h), (0,255,255), 3)\n",
    "     \n",
    "    cv2.imshow('Live Eye Detection', frame)  \n",
    "     \n",
    "    if cv2.waitKey(1) & 0xFF == ord('q'):\n",
    "        break\n",
    "        \n",
    "cam.release()\n",
    "cv2.destroyAllWindows()"
   ]
  },
  {
   "cell_type": "code",
   "execution_count": null,
   "metadata": {},
   "outputs": [],
   "source": []
  }
 ],
 "metadata": {
  "kernelspec": {
   "display_name": "Python 3",
   "language": "python",
   "name": "python3"
  },
  "language_info": {
   "codemirror_mode": {
    "name": "ipython",
    "version": 3
   },
   "file_extension": ".py",
   "mimetype": "text/x-python",
   "name": "python",
   "nbconvert_exporter": "python",
   "pygments_lexer": "ipython3",
   "version": "3.7.3"
  }
 },
 "nbformat": 4,
 "nbformat_minor": 2
}
