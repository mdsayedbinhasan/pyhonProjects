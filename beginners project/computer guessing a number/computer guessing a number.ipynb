{
 "cells": [
  {
   "cell_type": "code",
   "execution_count": null,
   "metadata": {},
   "outputs": [],
   "source": [
    "import random"
   ]
  },
  {
   "cell_type": "code",
   "execution_count": null,
   "metadata": {},
   "outputs": [],
   "source": [
    "play_game='y'\n",
    "start=1\n",
    "end=100\n",
    "direction='n'\n",
    "smallest=start\n",
    "largest=end\n",
    "\n",
    "while play_game=='y':\n",
    "    smallest=start\n",
    "    largest=end\n",
    "    print(int(input(\"enter your number for computer o guess: \")))\n",
    "    print(\"Guess a number between 1 and 100: \")\n",
    "    try_number=random.randint(start, end)\n",
    "    print(try_number)\n",
    "    counter=0\n",
    "    direction='n'\n",
    "    \n",
    "    while direction!='c':\n",
    "        direction=input(\"is it too large(L), too small(S), OR correct(C): \")\n",
    "        if direction=='s':\n",
    "            if try_number>smallest:\n",
    "                smallest=try_number+1\n",
    "            try_number=random.randint(smallest, largest)\n",
    "            print(try_number)\n",
    "        if direction=='l':\n",
    "            if try_number<largest:\n",
    "                largest=try_number-1\n",
    "            try_number=random.randint(smallest, largest)\n",
    "            print(try_number)\n",
    "        counter=counter+1\n",
    "    print(\"i got it, i tried\" + str(counter) + \"no. of times\")\n",
    "    play_game=input(\"continue the game? \")"
   ]
  },
  {
   "cell_type": "code",
   "execution_count": null,
   "metadata": {},
   "outputs": [],
   "source": []
  }
 ],
 "metadata": {
  "kernelspec": {
   "display_name": "Python 3",
   "language": "python",
   "name": "python3"
  },
  "language_info": {
   "codemirror_mode": {
    "name": "ipython",
    "version": 3
   },
   "file_extension": ".py",
   "mimetype": "text/x-python",
   "name": "python",
   "nbconvert_exporter": "python",
   "pygments_lexer": "ipython3",
   "version": "3.7.3"
  }
 },
 "nbformat": 4,
 "nbformat_minor": 2
}
