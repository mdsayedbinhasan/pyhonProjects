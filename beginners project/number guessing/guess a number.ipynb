{
 "cells": [
  {
   "cell_type": "code",
   "execution_count": 1,
   "metadata": {},
   "outputs": [],
   "source": [
    "import random"
   ]
  },
  {
   "cell_type": "code",
   "execution_count": null,
   "metadata": {},
   "outputs": [
    {
     "name": "stdout",
     "output_type": "stream",
     "text": [
      "Guess a number between 1 and 100: 30\n",
      "Your number is too small!\n",
      "Guess a number between 1 and 100: 50\n",
      "Your number is too small!\n",
      "Guess a number between 1 and 100: 60\n",
      "Your number is too small!\n",
      "Guess a number between 1 and 100: 80\n",
      "Your number is too large!\n",
      "Guess a number between 1 and 100: 75\n",
      "Your number is too large!\n",
      "Guess a number between 1 and 100: 65\n",
      "Your number is too small!\n",
      "Guess a number between 1 and 100: 60\n",
      "Your number is too small!\n",
      "Guess a number between 1 and 100: 70\n",
      "Your number is too small!\n",
      "Guess a number between 1 and 100: 73\n",
      "Your number is too large!\n",
      "Guess a number between 1 and 100: 72\n",
      "Your number is too large!\n",
      "Guess a number between 1 and 100: 71\n",
      "You got it! You tried 11number of times\n"
     ]
    }
   ],
   "source": [
    "play_game = 'y'\n",
    "\n",
    "while play_game == 'y':\n",
    "    answer = random.randint(1, 100)\n",
    "    try_number = int(input(\"Guess a number between 1 and 100: \"))\n",
    "    counter =1\n",
    "    \n",
    "    while try_number != answer:\n",
    "        if try_number>answer:\n",
    "            print(\"Your number is too large!\")\n",
    "        if try_number<answer:\n",
    "            print(\"Your number is too small!\")\n",
    "        try_number = int(input(\"Guess a number between 1 and 100: \"))\n",
    "        counter = counter+1\n",
    "    print(\"You got it! You tried \" + str(counter) + \"number of times\")\n",
    "    play_game = input(\"Continue? \")"
   ]
  },
  {
   "cell_type": "code",
   "execution_count": null,
   "metadata": {},
   "outputs": [],
   "source": []
  }
 ],
 "metadata": {
  "kernelspec": {
   "display_name": "Python 3",
   "language": "python",
   "name": "python3"
  },
  "language_info": {
   "codemirror_mode": {
    "name": "ipython",
    "version": 3
   },
   "file_extension": ".py",
   "mimetype": "text/x-python",
   "name": "python",
   "nbconvert_exporter": "python",
   "pygments_lexer": "ipython3",
   "version": "3.7.3"
  }
 },
 "nbformat": 4,
 "nbformat_minor": 2
}
